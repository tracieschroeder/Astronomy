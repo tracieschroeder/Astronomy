{
  "nbformat": 4,
  "nbformat_minor": 0,
  "metadata": {
    "colab": {
      "name": "Solar Position-Student.ipynb",
      "provenance": [],
      "include_colab_link": true
    },
    "kernelspec": {
      "name": "python3",
      "display_name": "Python 3"
    },
    "language_info": {
      "name": "python"
    }
  },
  "cells": [
    {
      "cell_type": "markdown",
      "metadata": {
        "id": "view-in-github",
        "colab_type": "text"
      },
      "source": [
        "<a href=\"https://colab.research.google.com/github/tracieschroeder/Astronomy/blob/main/Solar_Position_Student.ipynb\" target=\"_parent\"><img src=\"https://colab.research.google.com/assets/colab-badge.svg\" alt=\"Open In Colab\"/></a>"
      ]
    },
    {
      "cell_type": "markdown",
      "source": [
        "Solar position is a fundamental aspect of solar resource assessment. The different angles used in the reference system to locate the sun at a particular time and location are probably the most common input in solar resource modelling and assessment."
      ],
      "metadata": {
        "id": "Bt1bTaeG3Glj"
      }
    },
    {
      "cell_type": "code",
      "source": [
        "# Libraries\n",
        "import numpy as np\n",
        "import pandas as pd\n",
        "import matplotlib.pyplot as plt"
      ],
      "metadata": {
        "id": "RXpatxuu3UYM"
      },
      "execution_count": 1,
      "outputs": []
    },
    {
      "cell_type": "markdown",
      "source": [
        "We are going to want to draw data from a module called pvlib.\n",
        "\n",
        "![link text](https://pvlib-python.readthedocs.io/en/stable/_images/pvlib_logo_horiz.png)\n",
        "\n",
        "pvlib was developed at Sandia National Laboratories and it provides a set of functions and classes for simulating the performance of photovoltaic energy systems.\n",
        "\n",
        "Since this is an outside data source, we will need to install this module before we can import data from it.\n"
      ],
      "metadata": {
        "id": "1dIzs5QmKw7v"
      }
    },
    {
      "cell_type": "code",
      "source": [
        "!pip install pvlib"
      ],
      "metadata": {
        "colab": {
          "base_uri": "https://localhost:8080/"
        },
        "id": "ibJGyBYaMAeQ",
        "outputId": "712c39b8-2aac-4924-bde3-36e761f64ca2"
      },
      "execution_count": 2,
      "outputs": [
        {
          "output_type": "stream",
          "name": "stdout",
          "text": [
            "Collecting pvlib\n",
            "  Downloading pvlib-0.11.0-py3-none-any.whl.metadata (2.8 kB)\n",
            "Requirement already satisfied: numpy>=1.17.3 in /usr/local/lib/python3.10/dist-packages (from pvlib) (1.25.2)\n",
            "Requirement already satisfied: pandas>=1.3.0 in /usr/local/lib/python3.10/dist-packages (from pvlib) (2.0.3)\n",
            "Requirement already satisfied: pytz in /usr/local/lib/python3.10/dist-packages (from pvlib) (2023.4)\n",
            "Requirement already satisfied: requests in /usr/local/lib/python3.10/dist-packages (from pvlib) (2.31.0)\n",
            "Requirement already satisfied: scipy>=1.6.0 in /usr/local/lib/python3.10/dist-packages (from pvlib) (1.11.4)\n",
            "Requirement already satisfied: h5py in /usr/local/lib/python3.10/dist-packages (from pvlib) (3.9.0)\n",
            "Requirement already satisfied: python-dateutil>=2.8.2 in /usr/local/lib/python3.10/dist-packages (from pandas>=1.3.0->pvlib) (2.8.2)\n",
            "Requirement already satisfied: tzdata>=2022.1 in /usr/local/lib/python3.10/dist-packages (from pandas>=1.3.0->pvlib) (2024.1)\n",
            "Requirement already satisfied: charset-normalizer<4,>=2 in /usr/local/lib/python3.10/dist-packages (from requests->pvlib) (3.3.2)\n",
            "Requirement already satisfied: idna<4,>=2.5 in /usr/local/lib/python3.10/dist-packages (from requests->pvlib) (3.7)\n",
            "Requirement already satisfied: urllib3<3,>=1.21.1 in /usr/local/lib/python3.10/dist-packages (from requests->pvlib) (2.0.7)\n",
            "Requirement already satisfied: certifi>=2017.4.17 in /usr/local/lib/python3.10/dist-packages (from requests->pvlib) (2024.7.4)\n",
            "Requirement already satisfied: six>=1.5 in /usr/local/lib/python3.10/dist-packages (from python-dateutil>=2.8.2->pandas>=1.3.0->pvlib) (1.16.0)\n",
            "Downloading pvlib-0.11.0-py3-none-any.whl (29.5 MB)\n",
            "\u001b[2K   \u001b[90m━━━━━━━━━━━━━━━━━━━━━━━━━━━━━━━━━━━━━━━━\u001b[0m \u001b[32m29.5/29.5 MB\u001b[0m \u001b[31m26.0 MB/s\u001b[0m eta \u001b[36m0:00:00\u001b[0m\n",
            "\u001b[?25hInstalling collected packages: pvlib\n",
            "Successfully installed pvlib-0.11.0\n"
          ]
        }
      ]
    },
    {
      "cell_type": "markdown",
      "source": [
        "Now that we have installed the module, we can import it into our program."
      ],
      "metadata": {
        "id": "xcc6pbd4MHeo"
      }
    },
    {
      "cell_type": "code",
      "source": [
        "import pvlib"
      ],
      "metadata": {
        "id": "tjTaslq0MHti"
      },
      "execution_count": 3,
      "outputs": []
    },
    {
      "cell_type": "markdown",
      "source": [
        "There are two parts to the the pvlib module that we want to use in our program. solarposition supplies data about...wait for it...the position of the Sun. Location allows us to use a specific location for our data. Import these two objects."
      ],
      "metadata": {
        "id": "liTD30X_PZwQ"
      }
    },
    {
      "cell_type": "code",
      "source": [
        "from pvlib import solarposition\n",
        "from pvlib.location import Location"
      ],
      "metadata": {
        "id": "8LbWHVgsPaLP"
      },
      "execution_count": 4,
      "outputs": []
    },
    {
      "cell_type": "markdown",
      "source": [
        "Now that we have our background information all set up, we need to specify a location. You will probably need to look up the time zones. To enter them into the code correctly, use [pvlib's time zone documentation](https://pvlib-python.readthedocs.io/en/v0.6.0/timetimezones.html)."
      ],
      "metadata": {
        "id": "uQrkMkKDQEuE"
      }
    },
    {
      "cell_type": "code",
      "source": [
        "# Definition of Location object. Coordinates and elevation of Council Grove\n",
        "site = Location(38.6629036,-96.510788, 'Etc/GMT-6', 0, 'Council Grove, Kansas') # latitude, longitude, time_zone, altitude, name"
      ],
      "metadata": {
        "id": "ozpuyFMcSIup"
      },
      "execution_count": 5,
      "outputs": []
    },
    {
      "cell_type": "markdown",
      "source": [
        "We are able to change the date of the data we are looking at using the pd.date_range function."
      ],
      "metadata": {
        "id": "OPsCyiJJTT94"
      }
    },
    {
      "cell_type": "code",
      "source": [
        "# Definition of a time range of simulation\n",
        "times = pd.date_range('2022-03-21 00:00:00', '2022-3-21 23:59:00', closed='left', freq='H', tz=site.tz)"
      ],
      "metadata": {
        "id": "DM7TU8DqT28Q",
        "outputId": "af730b4c-a1ba-4650-f296-a9de84c807b4",
        "colab": {
          "base_uri": "https://localhost:8080/",
          "height": 280
        }
      },
      "execution_count": 6,
      "outputs": [
        {
          "output_type": "error",
          "ename": "TypeError",
          "evalue": "DatetimeArray._generate_range() got an unexpected keyword argument 'closed'",
          "traceback": [
            "\u001b[0;31m---------------------------------------------------------------------------\u001b[0m",
            "\u001b[0;31mTypeError\u001b[0m                                 Traceback (most recent call last)",
            "\u001b[0;32m<ipython-input-6-b11256069904>\u001b[0m in \u001b[0;36m<cell line: 2>\u001b[0;34m()\u001b[0m\n\u001b[1;32m      1\u001b[0m \u001b[0;31m# Definition of a time range of simulation\u001b[0m\u001b[0;34m\u001b[0m\u001b[0;34m\u001b[0m\u001b[0m\n\u001b[0;32m----> 2\u001b[0;31m \u001b[0mtimes\u001b[0m \u001b[0;34m=\u001b[0m \u001b[0mpd\u001b[0m\u001b[0;34m.\u001b[0m\u001b[0mdate_range\u001b[0m\u001b[0;34m(\u001b[0m\u001b[0;34m'2022-03-21 00:00:00'\u001b[0m\u001b[0;34m,\u001b[0m \u001b[0;34m'2022-3-21 23:59:00'\u001b[0m\u001b[0;34m,\u001b[0m \u001b[0mclosed\u001b[0m\u001b[0;34m=\u001b[0m\u001b[0;34m'left'\u001b[0m\u001b[0;34m,\u001b[0m \u001b[0mfreq\u001b[0m\u001b[0;34m=\u001b[0m\u001b[0;34m'H'\u001b[0m\u001b[0;34m,\u001b[0m \u001b[0mtz\u001b[0m\u001b[0;34m=\u001b[0m\u001b[0msite\u001b[0m\u001b[0;34m.\u001b[0m\u001b[0mtz\u001b[0m\u001b[0;34m)\u001b[0m\u001b[0;34m\u001b[0m\u001b[0;34m\u001b[0m\u001b[0m\n\u001b[0m",
            "\u001b[0;32m/usr/local/lib/python3.10/dist-packages/pandas/core/indexes/datetimes.py\u001b[0m in \u001b[0;36mdate_range\u001b[0;34m(start, end, periods, freq, tz, normalize, name, inclusive, unit, **kwargs)\u001b[0m\n\u001b[1;32m    943\u001b[0m         \u001b[0mfreq\u001b[0m \u001b[0;34m=\u001b[0m \u001b[0;34m\"D\"\u001b[0m\u001b[0;34m\u001b[0m\u001b[0;34m\u001b[0m\u001b[0m\n\u001b[1;32m    944\u001b[0m \u001b[0;34m\u001b[0m\u001b[0m\n\u001b[0;32m--> 945\u001b[0;31m     dtarr = DatetimeArray._generate_range(\n\u001b[0m\u001b[1;32m    946\u001b[0m         \u001b[0mstart\u001b[0m\u001b[0;34m=\u001b[0m\u001b[0mstart\u001b[0m\u001b[0;34m,\u001b[0m\u001b[0;34m\u001b[0m\u001b[0;34m\u001b[0m\u001b[0m\n\u001b[1;32m    947\u001b[0m         \u001b[0mend\u001b[0m\u001b[0;34m=\u001b[0m\u001b[0mend\u001b[0m\u001b[0;34m,\u001b[0m\u001b[0;34m\u001b[0m\u001b[0;34m\u001b[0m\u001b[0m\n",
            "\u001b[0;31mTypeError\u001b[0m: DatetimeArray._generate_range() got an unexpected keyword argument 'closed'"
          ]
        }
      ]
    },
    {
      "cell_type": "markdown",
      "source": [
        "Let's print a data table with the information that is available to us in this module. Remember you can change the number of rows of data that are printed. For lack of a more creative idenitfier, let's call our data \"data\"."
      ],
      "metadata": {
        "id": "jokBxfalUJXY"
      }
    },
    {
      "cell_type": "code",
      "source": [
        "# Estimate Solar Position with the 'Location' object\n",
        "data = site.get_solarposition(times)\n",
        "\n",
        "# Visualize the resulting DataFrame\n",
        "data.head(24)"
      ],
      "metadata": {
        "id": "q0R0pHc5WFHy"
      },
      "execution_count": null,
      "outputs": []
    },
    {
      "cell_type": "markdown",
      "source": [
        "We are interested in plotting the altitude and the azimuth over the course of certain days. We already identified the time range as March 21, 2022 a few lines above, so let's start with that date."
      ],
      "metadata": {
        "id": "dqgz7lmDU2LA"
      }
    },
    {
      "cell_type": "code",
      "source": [
        "fig = plt.figure(figsize=(15, 15))\n",
        "plt.scatter(data['what direction would you face?'],data['how high would you look?'], marker=\"*\")\n",
        "plt.title(\"title?\")\n",
        "plt.xlabel(\"Label me!\")\n",
        "plt.ylabel(\"Me, too!\");"
      ],
      "metadata": {
        "id": "C8BDS3KSXBin"
      },
      "execution_count": null,
      "outputs": []
    },
    {
      "cell_type": "markdown",
      "source": [
        "Something to think about...what does a negative elevation mean?\n",
        "\n",
        "To remove this data, add the following code to a code box just before the code that creates the plot.\n",
        "\n",
        "data = data.loc[data['apparent_elevation'] > 0, :]"
      ],
      "metadata": {
        "id": "obe-WA8Ug13-"
      }
    },
    {
      "cell_type": "markdown",
      "source": [
        "**Assignment 1**\n",
        "\n",
        "Here we have plotted the Sun's position as viewed from Council Grove on March 21. Go back and add the Sun's position for Jun 21, September 21, and December 21."
      ],
      "metadata": {
        "id": "a6T0RTLihmV5"
      }
    },
    {
      "cell_type": "markdown",
      "source": [
        "**Assignment 2**\n",
        "\n",
        "On a separate plot for each, plot the Sun's position as viewed from the other seven locations on March 21, Jun 21, September 21, and December 21."
      ],
      "metadata": {
        "id": "4ufdyz87h_MV"
      }
    },
    {
      "cell_type": "markdown",
      "source": [
        "**Challenge**\n",
        "\n",
        "Plot the Sun's position at noon as viewed from one location over the course of one year."
      ],
      "metadata": {
        "id": "mbyrrFEwjuZx"
      }
    },
    {
      "cell_type": "markdown",
      "source": [
        "This notebook was designed by [Tracie Schroeder](https://github.com/tracieschroeder)."
      ],
      "metadata": {
        "id": "eMDMr8omjyZ0"
      }
    }
  ]
}