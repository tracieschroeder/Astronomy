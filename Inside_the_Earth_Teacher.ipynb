{
  "cells": [
    {
      "cell_type": "markdown",
      "metadata": {
        "id": "view-in-github",
        "colab_type": "text"
      },
      "source": [
        "<a href=\"https://colab.research.google.com/github/tracieschroeder/Astronomy/blob/main/Inside_the_Earth_Teacher.ipynb\" target=\"_parent\"><img src=\"https://colab.research.google.com/assets/colab-badge.svg\" alt=\"Open In Colab\"/></a>"
      ]
    },
    {
      "cell_type": "markdown",
      "source": [
        "#Inside the Earth\n",
        "##Objectives:\n",
        "*   Predict the speed of seismic waves through the Earth\n",
        "*   Compare predicted speed of seismic waves and actual speed"
      ],
      "metadata": {
        "id": "9arY1FIM1wWZ"
      }
    },
    {
      "cell_type": "markdown",
      "source": [
        "##The Experimental Setup:\n",
        "1.\tLocate a circle.\n",
        "2.\tEach partner measure the diameter of the circle. Record the diameter in both centimeters and inches.\n",
        "3.\tEach partner measure the circumference of the circle in centimeters. Record the circumference in both centimeters and inches.\n",
        "4.\tRepeat for five more circles."
      ],
      "metadata": {
        "id": "AxWGBXJt29Jg"
      }
    },
    {
      "cell_type": "markdown",
      "metadata": {
        "id": "r4Z1gpGycSu5"
      },
      "source": [
        "# Google Colab. How does it work? Why do I have to do it?\n",
        "Google Colaboratory is a web-based program that allows us to write and execute code in the Python programming language. (Fun fact, Python is not named after the snake, but Monty Python's Flying Circus. The more you know.)\n",
        "\n",
        "There are two types of editors in Colab. The first is a text box. Like this. You can type text and your computer will ignore everything in the box when it runs your code. The second is a code box. This is where you type the code for the computer to read.\n",
        "\n",
        "Because I said so. Just kidding. Sort of. Coding is not just a skill that can open doors, it is a way of thinking that allows you to make sense of the things around you."
      ]
    },
    {
      "cell_type": "markdown",
      "metadata": {
        "id": "aNRM_68VmOmB"
      },
      "source": [
        "## Importing Libraries\n",
        "Colab doesn't really have much in the way of functions in and of itself, but it allows you to import many different coding libraries. These libraries are essentially software packages the allow you to perform different functions within your program.\n",
        "\n",
        "Click the \"play\" button on the left side of the code cell below."
      ]
    },
    {
      "cell_type": "code",
      "metadata": {
        "id": "aGuRZ8xlxdTa"
      },
      "source": [
        "# Import software packages (not too exciting)\n",
        "# You will at least need pandas, numpy, matplotlib, and pyplot\n",
        "# this cell only needs to be run once, but re-exectuing it doesn't hurt anything either\n",
        "%matplotlib inline\n",
        "import matplotlib as mpl\n",
        "import matplotlib.pyplot as plt\n",
        "import datascience as ds\n",
        "from datascience import *"
      ],
      "execution_count": null,
      "outputs": []
    },
    {
      "cell_type": "markdown",
      "metadata": {
        "id": "jVcf5Fz-jBGu"
      },
      "source": [
        "### What does all of this mean?\n",
        "\n",
        "![link text](https://www.data8.org/zero-to-data-8/_static/data8.png)\n",
        "\n",
        "`import datascience as ds`\n",
        "\n",
        "  **datascience** intuitively conduct data science techniques without first spending considerable time directly learning more complex tools\n",
        "# [datascience Documentation](https://www.data8.org/zero-to-data-8/datascience.html)\n",
        "\n",
        "\n",
        "![link text](https://upload.wikimedia.org/wikipedia/commons/0/01/Created_with_Matplotlib-logo.svg)\n",
        "```\n",
        "import matplotlib as mpl\n",
        "import matplotlib.pyplot as plt\n",
        "```\n",
        " **matplotlib** is a plotting library for the Python programming language and its numerical mathematics extension NumPy. It provides an object-oriented API for embedding plots into applications\n",
        "\n",
        "# [matplotlib Documentation](https://matplotlib.org/stable/contents.html)"
      ]
    },
    {
      "cell_type": "markdown",
      "metadata": {
        "id": "f0WQ3KYvnhvy"
      },
      "source": [
        "#**Learning Check!**\n",
        "\n",
        "Notice that we are importing each library as something else. Why do you think we are doing that? (Write your answer here!)\n",
        "\n"
      ]
    },
    {
      "cell_type": "markdown",
      "metadata": {
        "id": "Ox4Q45l5xzUG"
      },
      "source": [
        "# Making a Data Table\n",
        "\n",
        "In this lab, we have recorded the geocentric angle location of each station relative to the earthquake and the straight line distance through the Earth of the station from the earthquake.\n",
        "\n",
        "We will now take that data and add it to a data table."
      ]
    },
    {
      "cell_type": "markdown",
      "source": [
        "Look at the code cell below.\n",
        "\n",
        "Line 1 tells the computer that we want to make a data table.\n",
        "\n",
        "Line 2 tells the computer that we want to make a column in our data table called \"Station \"Number\". The number of each station is listed, separated by commas, enclosed in the brackets. In computer talk, this listing of items is called an **array**.\n",
        "\n",
        "In Line 3, we want to tell the computer to create a second column called \"Station Location\". Note that there are no numbers in the brackets. Add your measurements here.\n",
        "\n",
        "Notice that each array must have the same number of data points.\n",
        "\n",
        "Once you have the data entered, click on the play button."
      ],
      "metadata": {
        "id": "uoLYACYhx6QF"
      }
    },
    {
      "cell_type": "code",
      "source": [
        "quake=Table().with_columns(\n",
        "    'Station Number', make_array(1,2,3,4,5,6,7,8,9,10,11,12,13,14,15,16,17),\n",
        "    'Station Location (degrees)', make_array(1,10,18,27,34,40,50,60,67,82,100,112,121,129,138,154,172),\n",
        "    'Model Distance (cm)', make_array(0.3,3.5,6.1,9.2,11.6,13.5,16.7,19.8,21.9,26,30.4,32.8,34.4,35.6,36.8,38.5,39.3)\n",
        ")\n",
        "quake"
      ],
      "metadata": {
        "colab": {
          "base_uri": "https://localhost:8080/",
          "height": 392
        },
        "id": "GiZ5cQS6f1Xl",
        "outputId": "7cc10e2a-7a00-48d9-9430-6fe2b41e1840"
      },
      "execution_count": null,
      "outputs": [
        {
          "output_type": "execute_result",
          "data": {
            "text/plain": [
              "Station Number | Station Location (degrees) | Model Distance (cm)\n",
              "1              | 1                          | 0.3\n",
              "2              | 10                         | 3.5\n",
              "3              | 18                         | 6.1\n",
              "4              | 27                         | 9.2\n",
              "5              | 34                         | 11.6\n",
              "6              | 40                         | 13.5\n",
              "7              | 50                         | 16.7\n",
              "8              | 60                         | 19.8\n",
              "9              | 67                         | 21.9\n",
              "10             | 82                         | 26\n",
              "... (7 rows omitted)"
            ],
            "text/html": [
              "<table border=\"1\" class=\"dataframe\">\n",
              "    <thead>\n",
              "        <tr>\n",
              "            <th>Station Number</th> <th>Station Location (degrees)</th> <th>Model Distance (cm)</th>\n",
              "        </tr>\n",
              "    </thead>\n",
              "    <tbody>\n",
              "        <tr>\n",
              "            <td>1             </td> <td>1                         </td> <td>0.3                </td>\n",
              "        </tr>\n",
              "        <tr>\n",
              "            <td>2             </td> <td>10                        </td> <td>3.5                </td>\n",
              "        </tr>\n",
              "        <tr>\n",
              "            <td>3             </td> <td>18                        </td> <td>6.1                </td>\n",
              "        </tr>\n",
              "        <tr>\n",
              "            <td>4             </td> <td>27                        </td> <td>9.2                </td>\n",
              "        </tr>\n",
              "        <tr>\n",
              "            <td>5             </td> <td>34                        </td> <td>11.6               </td>\n",
              "        </tr>\n",
              "        <tr>\n",
              "            <td>6             </td> <td>40                        </td> <td>13.5               </td>\n",
              "        </tr>\n",
              "        <tr>\n",
              "            <td>7             </td> <td>50                        </td> <td>16.7               </td>\n",
              "        </tr>\n",
              "        <tr>\n",
              "            <td>8             </td> <td>60                        </td> <td>19.8               </td>\n",
              "        </tr>\n",
              "        <tr>\n",
              "            <td>9             </td> <td>67                        </td> <td>21.9               </td>\n",
              "        </tr>\n",
              "        <tr>\n",
              "            <td>10            </td> <td>82                        </td> <td>26                 </td>\n",
              "        </tr>\n",
              "    </tbody>\n",
              "</table>\n",
              "<p>... (7 rows omitted)</p>"
            ]
          },
          "metadata": {},
          "execution_count": 2
        }
      ]
    },
    {
      "cell_type": "markdown",
      "source": [
        "##**Model Distance Column**\n",
        "\n",
        "Nice! Now that you know how to create a table, go back up and add in a column for \"Model Distance (cm)\" for the rest of the data that you measured."
      ],
      "metadata": {
        "id": "DdaB3ckTg6sO"
      }
    },
    {
      "cell_type": "markdown",
      "source": [
        "##**Adding Calculated Columns**\n",
        "\n",
        "Now we are going to add columns for our calculations.\n",
        "\n",
        "Take a look at the code below. Run the cell and see what happens.\n",
        "\n",
        "Does the new column match the data that you calculated before?"
      ],
      "metadata": {
        "id": "Nqw5Yhf4iaDi"
      }
    },
    {
      "cell_type": "code",
      "source": [
        "#model=quake.column('Distance in model (cm)').item(0)\n",
        "quake=quake.with_columns(\n",
        "      'Earth Distance (km)',quake.column('Model Distance (cm)')*320\n",
        ")\n",
        "quake"
      ],
      "metadata": {
        "colab": {
          "base_uri": "https://localhost:8080/",
          "height": 392
        },
        "id": "ls6dORE4g6St",
        "outputId": "896b5cb3-023a-4ff3-a118-a6980b1f861d"
      },
      "execution_count": null,
      "outputs": [
        {
          "output_type": "execute_result",
          "data": {
            "text/plain": [
              "Station Number | Station Location (degrees) | Model Distance (cm) | Earth Distance (km)\n",
              "1              | 1                          | 0.3                 | 96\n",
              "2              | 10                         | 3.5                 | 1120\n",
              "3              | 18                         | 6.1                 | 1952\n",
              "4              | 27                         | 9.2                 | 2944\n",
              "5              | 34                         | 11.6                | 3712\n",
              "6              | 40                         | 13.5                | 4320\n",
              "7              | 50                         | 16.7                | 5344\n",
              "8              | 60                         | 19.8                | 6336\n",
              "9              | 67                         | 21.9                | 7008\n",
              "10             | 82                         | 26                  | 8320\n",
              "... (7 rows omitted)"
            ],
            "text/html": [
              "<table border=\"1\" class=\"dataframe\">\n",
              "    <thead>\n",
              "        <tr>\n",
              "            <th>Station Number</th> <th>Station Location (degrees)</th> <th>Model Distance (cm)</th> <th>Earth Distance (km)</th>\n",
              "        </tr>\n",
              "    </thead>\n",
              "    <tbody>\n",
              "        <tr>\n",
              "            <td>1             </td> <td>1                         </td> <td>0.3                </td> <td>96                 </td>\n",
              "        </tr>\n",
              "        <tr>\n",
              "            <td>2             </td> <td>10                        </td> <td>3.5                </td> <td>1120               </td>\n",
              "        </tr>\n",
              "        <tr>\n",
              "            <td>3             </td> <td>18                        </td> <td>6.1                </td> <td>1952               </td>\n",
              "        </tr>\n",
              "        <tr>\n",
              "            <td>4             </td> <td>27                        </td> <td>9.2                </td> <td>2944               </td>\n",
              "        </tr>\n",
              "        <tr>\n",
              "            <td>5             </td> <td>34                        </td> <td>11.6               </td> <td>3712               </td>\n",
              "        </tr>\n",
              "        <tr>\n",
              "            <td>6             </td> <td>40                        </td> <td>13.5               </td> <td>4320               </td>\n",
              "        </tr>\n",
              "        <tr>\n",
              "            <td>7             </td> <td>50                        </td> <td>16.7               </td> <td>5344               </td>\n",
              "        </tr>\n",
              "        <tr>\n",
              "            <td>8             </td> <td>60                        </td> <td>19.8               </td> <td>6336               </td>\n",
              "        </tr>\n",
              "        <tr>\n",
              "            <td>9             </td> <td>67                        </td> <td>21.9               </td> <td>7008               </td>\n",
              "        </tr>\n",
              "        <tr>\n",
              "            <td>10            </td> <td>82                        </td> <td>26                 </td> <td>8320               </td>\n",
              "        </tr>\n",
              "    </tbody>\n",
              "</table>\n",
              "<p>... (7 rows omitted)</p>"
            ]
          },
          "metadata": {},
          "execution_count": 3
        }
      ]
    },
    {
      "cell_type": "markdown",
      "source": [
        "##**Learning Check!**\n",
        "\n",
        "1. What is the name of the new column?\n",
        "\n",
        "2. Where did the numbers in the 'Distance in Earth (cm)' column come from?\n",
        "\n",
        "3. Why does the word 'quake' need to be in Line 4?"
      ],
      "metadata": {
        "id": "ePukV62GkupT"
      }
    },
    {
      "cell_type": "markdown",
      "source": [
        "##**Time (s) Column**\n",
        "\n",
        "In the code block below, create a new column called 'Time (s)' Remember we discovered that seismic waves travel through rock with a speed of 11 km/s and that time can be found by taking distance traveled divided by speed."
      ],
      "metadata": {
        "id": "GgQj1N68lmzN"
      }
    },
    {
      "cell_type": "code",
      "source": [
        "quake=quake.with_columns(\n",
        "      'Time (s)',quake.column('Earth Distance (km)')/11\n",
        ")\n",
        "\n",
        "quake"
      ],
      "metadata": {
        "id": "BSr0MFUDml-m",
        "colab": {
          "base_uri": "https://localhost:8080/",
          "height": 392
        },
        "outputId": "41dc195c-7ada-449a-fb9e-a042613e67ae"
      },
      "execution_count": null,
      "outputs": [
        {
          "output_type": "execute_result",
          "data": {
            "text/plain": [
              "Station Number | Station Location (degrees) | Model Distance (cm) | Earth Distance (km) | Time (s)\n",
              "1              | 1                          | 0.3                 | 96                  | 8.72727\n",
              "2              | 10                         | 3.5                 | 1120                | 101.818\n",
              "3              | 18                         | 6.1                 | 1952                | 177.455\n",
              "4              | 27                         | 9.2                 | 2944                | 267.636\n",
              "5              | 34                         | 11.6                | 3712                | 337.455\n",
              "6              | 40                         | 13.5                | 4320                | 392.727\n",
              "7              | 50                         | 16.7                | 5344                | 485.818\n",
              "8              | 60                         | 19.8                | 6336                | 576\n",
              "9              | 67                         | 21.9                | 7008                | 637.091\n",
              "10             | 82                         | 26                  | 8320                | 756.364\n",
              "... (7 rows omitted)"
            ],
            "text/html": [
              "<table border=\"1\" class=\"dataframe\">\n",
              "    <thead>\n",
              "        <tr>\n",
              "            <th>Station Number</th> <th>Station Location (degrees)</th> <th>Model Distance (cm)</th> <th>Earth Distance (km)</th> <th>Time (s)</th>\n",
              "        </tr>\n",
              "    </thead>\n",
              "    <tbody>\n",
              "        <tr>\n",
              "            <td>1             </td> <td>1                         </td> <td>0.3                </td> <td>96                 </td> <td>8.72727 </td>\n",
              "        </tr>\n",
              "        <tr>\n",
              "            <td>2             </td> <td>10                        </td> <td>3.5                </td> <td>1120               </td> <td>101.818 </td>\n",
              "        </tr>\n",
              "        <tr>\n",
              "            <td>3             </td> <td>18                        </td> <td>6.1                </td> <td>1952               </td> <td>177.455 </td>\n",
              "        </tr>\n",
              "        <tr>\n",
              "            <td>4             </td> <td>27                        </td> <td>9.2                </td> <td>2944               </td> <td>267.636 </td>\n",
              "        </tr>\n",
              "        <tr>\n",
              "            <td>5             </td> <td>34                        </td> <td>11.6               </td> <td>3712               </td> <td>337.455 </td>\n",
              "        </tr>\n",
              "        <tr>\n",
              "            <td>6             </td> <td>40                        </td> <td>13.5               </td> <td>4320               </td> <td>392.727 </td>\n",
              "        </tr>\n",
              "        <tr>\n",
              "            <td>7             </td> <td>50                        </td> <td>16.7               </td> <td>5344               </td> <td>485.818 </td>\n",
              "        </tr>\n",
              "        <tr>\n",
              "            <td>8             </td> <td>60                        </td> <td>19.8               </td> <td>6336               </td> <td>576     </td>\n",
              "        </tr>\n",
              "        <tr>\n",
              "            <td>9             </td> <td>67                        </td> <td>21.9               </td> <td>7008               </td> <td>637.091 </td>\n",
              "        </tr>\n",
              "        <tr>\n",
              "            <td>10            </td> <td>82                        </td> <td>26                 </td> <td>8320               </td> <td>756.364 </td>\n",
              "        </tr>\n",
              "    </tbody>\n",
              "</table>\n",
              "<p>... (7 rows omitted)</p>"
            ]
          },
          "metadata": {},
          "execution_count": 4
        }
      ]
    },
    {
      "cell_type": "markdown",
      "source": [
        "##**Time (min) Column**\n",
        "\n",
        "Create a new column called 'Travel Time (min)'\n",
        "\n",
        "HINT: How many seconds are there in one minute?"
      ],
      "metadata": {
        "id": "5NH9ciOkmBdl"
      }
    },
    {
      "cell_type": "code",
      "source": [
        "quake=quake.with_columns(\n",
        "      'Time (min)',quake.column('Time (s)')/60\n",
        ")\n",
        "quake"
      ],
      "metadata": {
        "colab": {
          "base_uri": "https://localhost:8080/",
          "height": 392
        },
        "outputId": "eb2d4731-1f47-496d-afb6-0f2c75969e2d",
        "id": "JslfOQqS2qQG"
      },
      "execution_count": null,
      "outputs": [
        {
          "output_type": "execute_result",
          "data": {
            "text/plain": [
              "Station Number | Station Location (degrees) | Model Distance (cm) | Earth Distance (km) | Time (s) | Time (min)\n",
              "1              | 1                          | 0.3                 | 96                  | 8.72727  | 0.145455\n",
              "2              | 10                         | 3.5                 | 1120                | 101.818  | 1.69697\n",
              "3              | 18                         | 6.1                 | 1952                | 177.455  | 2.95758\n",
              "4              | 27                         | 9.2                 | 2944                | 267.636  | 4.46061\n",
              "5              | 34                         | 11.6                | 3712                | 337.455  | 5.62424\n",
              "6              | 40                         | 13.5                | 4320                | 392.727  | 6.54545\n",
              "7              | 50                         | 16.7                | 5344                | 485.818  | 8.09697\n",
              "8              | 60                         | 19.8                | 6336                | 576      | 9.6\n",
              "9              | 67                         | 21.9                | 7008                | 637.091  | 10.6182\n",
              "10             | 82                         | 26                  | 8320                | 756.364  | 12.6061\n",
              "... (7 rows omitted)"
            ],
            "text/html": [
              "<table border=\"1\" class=\"dataframe\">\n",
              "    <thead>\n",
              "        <tr>\n",
              "            <th>Station Number</th> <th>Station Location (degrees)</th> <th>Model Distance (cm)</th> <th>Earth Distance (km)</th> <th>Time (s)</th> <th>Time (min)</th>\n",
              "        </tr>\n",
              "    </thead>\n",
              "    <tbody>\n",
              "        <tr>\n",
              "            <td>1             </td> <td>1                         </td> <td>0.3                </td> <td>96                 </td> <td>8.72727 </td> <td>0.145455  </td>\n",
              "        </tr>\n",
              "        <tr>\n",
              "            <td>2             </td> <td>10                        </td> <td>3.5                </td> <td>1120               </td> <td>101.818 </td> <td>1.69697   </td>\n",
              "        </tr>\n",
              "        <tr>\n",
              "            <td>3             </td> <td>18                        </td> <td>6.1                </td> <td>1952               </td> <td>177.455 </td> <td>2.95758   </td>\n",
              "        </tr>\n",
              "        <tr>\n",
              "            <td>4             </td> <td>27                        </td> <td>9.2                </td> <td>2944               </td> <td>267.636 </td> <td>4.46061   </td>\n",
              "        </tr>\n",
              "        <tr>\n",
              "            <td>5             </td> <td>34                        </td> <td>11.6               </td> <td>3712               </td> <td>337.455 </td> <td>5.62424   </td>\n",
              "        </tr>\n",
              "        <tr>\n",
              "            <td>6             </td> <td>40                        </td> <td>13.5               </td> <td>4320               </td> <td>392.727 </td> <td>6.54545   </td>\n",
              "        </tr>\n",
              "        <tr>\n",
              "            <td>7             </td> <td>50                        </td> <td>16.7               </td> <td>5344               </td> <td>485.818 </td> <td>8.09697   </td>\n",
              "        </tr>\n",
              "        <tr>\n",
              "            <td>8             </td> <td>60                        </td> <td>19.8               </td> <td>6336               </td> <td>576     </td> <td>9.6       </td>\n",
              "        </tr>\n",
              "        <tr>\n",
              "            <td>9             </td> <td>67                        </td> <td>21.9               </td> <td>7008               </td> <td>637.091 </td> <td>10.6182   </td>\n",
              "        </tr>\n",
              "        <tr>\n",
              "            <td>10            </td> <td>82                        </td> <td>26                 </td> <td>8320               </td> <td>756.364 </td> <td>12.6061   </td>\n",
              "        </tr>\n",
              "    </tbody>\n",
              "</table>\n",
              "<p>... (7 rows omitted)</p>"
            ]
          },
          "metadata": {},
          "execution_count": 5
        }
      ]
    },
    {
      "cell_type": "markdown",
      "source": [
        "##**Make a Graph**\n",
        "\n",
        "Now for the fun part! We want to plot the Station Location (degrees) on the x-axis and the Travel Time (min) on the y axis."
      ],
      "metadata": {
        "id": "rbN0SLBHkMvX"
      }
    },
    {
      "cell_type": "code",
      "execution_count": null,
      "metadata": {
        "id": "dxV437k1UJE-"
      },
      "outputs": [],
      "source": [
        "graph = plt.figure(figsize=(15, 10))\n",
        "\n",
        "x = quake.column('Station Location (degrees)')\n",
        "y1 = quake.column('Time (min)')\n",
        "\n",
        "plt.scatter(x, y1, marker='*', color='b', s=100)\n",
        "\n",
        "plt.title(\"Travel Time vs Station Location\")\n",
        "plt.xlabel(\"Station Location (degrees)\")\n",
        "plt.ylabel(\"Time (min)\");\n",
        "plt.show();\n"
      ]
    },
    {
      "cell_type": "markdown",
      "source": [
        "##**Learning Check!**\n",
        "\n",
        "Notice the title of your graph. Rename the graph so that the title reads \"Travel Time vs Station Location\"\n",
        "\n",
        "Give appropriate labels to the axes. Include the units!\n",
        "\n",
        "Can you change the color of the data points? What about the shape of the data points? Make them bigger or smaller?\n",
        "\n",
        "What happens if you change the numbers in Line 1?"
      ],
      "metadata": {
        "id": "DSlwHNJC8SFg"
      }
    },
    {
      "cell_type": "markdown",
      "source": [
        "##**Learning Check!**\n",
        "\n",
        "Around 90*, the time is not going up at the same rate as it was before. Why do you think this is?"
      ],
      "metadata": {
        "id": "4P0Afd0Wnt-2"
      }
    },
    {
      "cell_type": "markdown",
      "source": [
        "##**Assignment in Classroom!**\n",
        "\n",
        "\n",
        "\n",
        "\n"
      ],
      "metadata": {
        "id": "g9VYKXvHrFM9"
      }
    },
    {
      "cell_type": "markdown",
      "source": [
        "#**Part II**\n",
        "\n",
        "Actual Results\n",
        "\n",
        "The Record Section (blue and green paper) shows the times that the seismic waves actually arrived at the stations.\n"
      ],
      "metadata": {
        "id": "Jd-vyyQNrYy1"
      }
    },
    {
      "cell_type": "markdown",
      "source": [
        "Add the recorded arrival times as an array and add it to the data table."
      ],
      "metadata": {
        "id": "g7535ufBr3dy"
      }
    },
    {
      "cell_type": "code",
      "source": [
        "quake=quake.with_columns(\n",
        "    'Actual Time (min)', make_array(1,2,4,6,7,7,9,10,11,13,14,19,19,19,19,20,20)\n",
        ")\n",
        "quake"
      ],
      "metadata": {
        "id": "g0g9HDBTsQ2t",
        "outputId": "0e6925f0-62b1-410e-aa8b-e64919735bfb",
        "colab": {
          "base_uri": "https://localhost:8080/",
          "height": 392
        }
      },
      "execution_count": null,
      "outputs": [
        {
          "output_type": "execute_result",
          "data": {
            "text/plain": [
              "Station Number | Station Location (degrees) | Model Distance (cm) | Earth Distance (km) | Time (s) | Time (min) | Actual Time (min)\n",
              "1              | 1                          | 0.3                 | 96                  | 8.72727  | 0.145455   | 1\n",
              "2              | 10                         | 3.5                 | 1120                | 101.818  | 1.69697    | 2\n",
              "3              | 18                         | 6.1                 | 1952                | 177.455  | 2.95758    | 4\n",
              "4              | 27                         | 9.2                 | 2944                | 267.636  | 4.46061    | 6\n",
              "5              | 34                         | 11.6                | 3712                | 337.455  | 5.62424    | 7\n",
              "6              | 40                         | 13.5                | 4320                | 392.727  | 6.54545    | 7\n",
              "7              | 50                         | 16.7                | 5344                | 485.818  | 8.09697    | 9\n",
              "8              | 60                         | 19.8                | 6336                | 576      | 9.6        | 10\n",
              "9              | 67                         | 21.9                | 7008                | 637.091  | 10.6182    | 11\n",
              "10             | 82                         | 26                  | 8320                | 756.364  | 12.6061    | 13\n",
              "... (7 rows omitted)"
            ],
            "text/html": [
              "<table border=\"1\" class=\"dataframe\">\n",
              "    <thead>\n",
              "        <tr>\n",
              "            <th>Station Number</th> <th>Station Location (degrees)</th> <th>Model Distance (cm)</th> <th>Earth Distance (km)</th> <th>Time (s)</th> <th>Time (min)</th> <th>Actual Time (min)</th>\n",
              "        </tr>\n",
              "    </thead>\n",
              "    <tbody>\n",
              "        <tr>\n",
              "            <td>1             </td> <td>1                         </td> <td>0.3                </td> <td>96                 </td> <td>8.72727 </td> <td>0.145455  </td> <td>1                </td>\n",
              "        </tr>\n",
              "        <tr>\n",
              "            <td>2             </td> <td>10                        </td> <td>3.5                </td> <td>1120               </td> <td>101.818 </td> <td>1.69697   </td> <td>2                </td>\n",
              "        </tr>\n",
              "        <tr>\n",
              "            <td>3             </td> <td>18                        </td> <td>6.1                </td> <td>1952               </td> <td>177.455 </td> <td>2.95758   </td> <td>4                </td>\n",
              "        </tr>\n",
              "        <tr>\n",
              "            <td>4             </td> <td>27                        </td> <td>9.2                </td> <td>2944               </td> <td>267.636 </td> <td>4.46061   </td> <td>6                </td>\n",
              "        </tr>\n",
              "        <tr>\n",
              "            <td>5             </td> <td>34                        </td> <td>11.6               </td> <td>3712               </td> <td>337.455 </td> <td>5.62424   </td> <td>7                </td>\n",
              "        </tr>\n",
              "        <tr>\n",
              "            <td>6             </td> <td>40                        </td> <td>13.5               </td> <td>4320               </td> <td>392.727 </td> <td>6.54545   </td> <td>7                </td>\n",
              "        </tr>\n",
              "        <tr>\n",
              "            <td>7             </td> <td>50                        </td> <td>16.7               </td> <td>5344               </td> <td>485.818 </td> <td>8.09697   </td> <td>9                </td>\n",
              "        </tr>\n",
              "        <tr>\n",
              "            <td>8             </td> <td>60                        </td> <td>19.8               </td> <td>6336               </td> <td>576     </td> <td>9.6       </td> <td>10               </td>\n",
              "        </tr>\n",
              "        <tr>\n",
              "            <td>9             </td> <td>67                        </td> <td>21.9               </td> <td>7008               </td> <td>637.091 </td> <td>10.6182   </td> <td>11               </td>\n",
              "        </tr>\n",
              "        <tr>\n",
              "            <td>10            </td> <td>82                        </td> <td>26                 </td> <td>8320               </td> <td>756.364 </td> <td>12.6061   </td> <td>13               </td>\n",
              "        </tr>\n",
              "    </tbody>\n",
              "</table>\n",
              "<p>... (7 rows omitted)</p>"
            ]
          },
          "metadata": {},
          "execution_count": 7
        }
      ]
    },
    {
      "cell_type": "markdown",
      "source": [
        "##**Graph both sets of data**\n",
        "\n",
        "Remember our goal is to compare the predicted arrival times of the seismic waves to the actual time of arrival at each station. The easiest way to do this is to plot both sets of data on the same graph."
      ],
      "metadata": {
        "id": "nQk0SUum5qia"
      }
    },
    {
      "cell_type": "code",
      "execution_count": null,
      "metadata": {
        "id": "FsxYhKu76jy9"
      },
      "outputs": [],
      "source": [
        "graph = plt.figure(figsize=(15, 10))\n",
        "\n",
        "x = quake['Station Location (degrees)']\n",
        "y1 = quake['Time (min)']\n",
        "y2 = quake['Actual Time (min)']\n",
        "\n",
        "plt.scatter(x, y1, marker='v', color='r', s=100)\n",
        "plt.scatter(x, y2, marker='*', color='b', s=100)\n",
        "\n",
        "#plt.scatter(quake['Station Location (degrees)'],quake['Travel Time (min)'], s=100)\n",
        "plt.title(\"title?\")\n",
        "plt.xlabel(\"Label me!\")\n",
        "plt.ylabel(\"Me, too!\");\n",
        "plt.show()\n"
      ]
    },
    {
      "cell_type": "markdown",
      "source": [
        "This notebook was designed by [Tracie Schroeder](https://github.com/tracieschroeder)."
      ],
      "metadata": {
        "id": "szWiIa1iktke"
      }
    }
  ],
  "metadata": {
    "colab": {
      "collapsed_sections": [
        "8tUG_sHorh4c"
      ],
      "provenance": [],
      "include_colab_link": true
    },
    "kernelspec": {
      "display_name": "Python 3",
      "language": "python",
      "name": "python3"
    },
    "language_info": {
      "codemirror_mode": {
        "name": "ipython",
        "version": 3
      },
      "file_extension": ".py",
      "mimetype": "text/x-python",
      "name": "python",
      "nbconvert_exporter": "python",
      "pygments_lexer": "ipython3",
      "version": "3.7.4"
    }
  },
  "nbformat": 4,
  "nbformat_minor": 0
}