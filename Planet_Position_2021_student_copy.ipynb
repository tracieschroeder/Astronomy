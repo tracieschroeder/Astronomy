{
  "nbformat": 4,
  "nbformat_minor": 0,
  "metadata": {
    "colab": {
      "name": "Planet Position 2021 student copy",
      "provenance": [],
      "authorship_tag": "ABX9TyOM7OZ7g05PNqGWBB0nYD4V",
      "include_colab_link": true
    },
    "kernelspec": {
      "name": "python3",
      "display_name": "Python 3"
    },
    "language_info": {
      "name": "python"
    }
  },
  "cells": [
    {
      "cell_type": "markdown",
      "metadata": {
        "id": "view-in-github",
        "colab_type": "text"
      },
      "source": [
        "<a href=\"https://colab.research.google.com/github/tracieschroeder/Astronomy/blob/main/Planet_Position_2021_student_copy.ipynb\" target=\"_parent\"><img src=\"https://colab.research.google.com/assets/colab-badge.svg\" alt=\"Open In Colab\"/></a>"
      ]
    },
    {
      "cell_type": "markdown",
      "source": [
        "#Before doing anything, make a copy of this file!"
      ],
      "metadata": {
        "id": "UiarnJk8olji"
      }
    },
    {
      "cell_type": "code",
      "execution_count": null,
      "metadata": {
        "id": "LWfkGcyqpEFD"
      },
      "outputs": [],
      "source": [
        "import numpy as np\n",
        "import pandas as pd\n",
        "import matplotlib.pyplot as plt"
      ]
    },
    {
      "cell_type": "markdown",
      "source": [
        "![link text](https://rhodesmill.org/skyfield/_static/logo.png)\n",
        "\n",
        "Skyfield is a pure-Python astronomy package that is compatible with both Python 2 and 3 and makes it easy to generate high precision research-grade positions for planets and Earth satellites.\n",
        "\n",
        "Documentation can be found here: https://rhodesmill.org/skyfield/"
      ],
      "metadata": {
        "id": "BVP6Lbvjrj2s"
      }
    },
    {
      "cell_type": "code",
      "source": [
        "pip install skyfield"
      ],
      "metadata": {
        "colab": {
          "base_uri": "https://localhost:8080/"
        },
        "id": "qFNH_Xs5pIqh",
        "outputId": "7c56a497-c484-4502-e0c8-87f950ec4ead"
      },
      "execution_count": null,
      "outputs": [
        {
          "output_type": "stream",
          "name": "stdout",
          "text": [
            "Collecting skyfield\n",
            "  Downloading skyfield-1.42.tar.gz (391 kB)\n",
            "\u001b[K     |████████████████████████████████| 391 kB 3.3 MB/s \n",
            "\u001b[?25hRequirement already satisfied: certifi>=2017.4.17 in /usr/local/lib/python3.7/dist-packages (from skyfield) (2021.10.8)\n",
            "Collecting jplephem>=2.13\n",
            "  Downloading jplephem-2.17.tar.gz (40 kB)\n",
            "\u001b[K     |████████████████████████████████| 40 kB 4.7 MB/s \n",
            "\u001b[?25hRequirement already satisfied: numpy in /usr/local/lib/python3.7/dist-packages (from skyfield) (1.21.5)\n",
            "Collecting sgp4>=2.2\n",
            "  Downloading sgp4-2.20-cp37-cp37m-manylinux2010_x86_64.whl (258 kB)\n",
            "\u001b[K     |████████████████████████████████| 258 kB 6.2 MB/s \n",
            "\u001b[?25hBuilding wheels for collected packages: skyfield, jplephem\n",
            "  Building wheel for skyfield (setup.py) ... \u001b[?25l\u001b[?25hdone\n",
            "  Created wheel for skyfield: filename=skyfield-1.42-py3-none-any.whl size=436509 sha256=101e5884c4169bb30b4111e0e32475eeca9891f303d29d532a8522f0b28e1952\n",
            "  Stored in directory: /root/.cache/pip/wheels/f8/37/bb/01a58b55ad1551ff4828713f195fd20c4c0a58f76504684727\n",
            "  Building wheel for jplephem (setup.py) ... \u001b[?25l\u001b[?25hdone\n",
            "  Created wheel for jplephem: filename=jplephem-2.17-py3-none-any.whl size=46328 sha256=063c39e3b46fd136475595367432e63aebcf78c16c3b7d723b565f15d723b01c\n",
            "  Stored in directory: /root/.cache/pip/wheels/6c/fe/9c/2b3a1f7d639f9833f5cd79a2e62cb5d6f7901ee731e6cfd6e1\n",
            "Successfully built skyfield jplephem\n",
            "Installing collected packages: sgp4, jplephem, skyfield\n",
            "Successfully installed jplephem-2.17 sgp4-2.20 skyfield-1.42\n"
          ]
        }
      ]
    },
    {
      "cell_type": "markdown",
      "source": [
        "For this plot, we are going to import two of the skyfield libraries. \n",
        "\n",
        "almanac contains a ton of information about solar system bodies at given times. https://rhodesmill.org/skyfield/almanac.html\n",
        "\n",
        "load, wgs84 saves the pulled data into a working directory, while wgs84 refers to the World Geodetic System 1984. This is the reference coordinate system used by GPS to find locations on Earth. https://rhodesmill.org/skyfield/api-topos.html#skyfield.toposlib.wgs84 "
      ],
      "metadata": {
        "id": "zMLKZ4aKs3tC"
      }
    },
    {
      "cell_type": "code",
      "source": [
        "from skyfield import almanac\n",
        "from skyfield.api import load, wgs84"
      ],
      "metadata": {
        "id": "KVLzjORlpSsp"
      },
      "execution_count": null,
      "outputs": []
    },
    {
      "cell_type": "markdown",
      "source": [
        "Now we need to choose an ephemeris. An ephemeris is a book with tables that gives the trajectory of astronomical objects in the sky. It is a lot of data compiled in one place. \n",
        "\n",
        "de421.bsp is a fairly short ephemeris created in 2008 by NASA's JPL that contains data from 1900 to 2050.\n",
        "\n",
        "If you would like to look in the the ephemeris world further: https://rhodesmill.org/skyfield/planets.html"
      ],
      "metadata": {
        "id": "co4ZCKDoxlhl"
      }
    },
    {
      "cell_type": "code",
      "source": [
        "planets = load('de421.bsp')"
      ],
      "metadata": {
        "colab": {
          "base_uri": "https://localhost:8080/"
        },
        "id": "_kWv0Mh_xb_Q",
        "outputId": "dee6ef43-3d8d-49d1-a825-a69c0b2461a5"
      },
      "execution_count": null,
      "outputs": [
        {
          "output_type": "stream",
          "name": "stderr",
          "text": [
            "[#################################] 100% de421.bsp\n"
          ]
        }
      ]
    },
    {
      "cell_type": "markdown",
      "source": [
        "You can check to see if a certain ephemeris contains data on a specific planet by using the print command."
      ],
      "metadata": {
        "id": "7hFXzZzazP7H"
      }
    },
    {
      "cell_type": "code",
      "source": [
        "print(planets)"
      ],
      "metadata": {
        "colab": {
          "base_uri": "https://localhost:8080/"
        },
        "id": "9nUGv95FzDzt",
        "outputId": "c2afde7f-9080-4bb9-fd4d-947cd41ce9ac"
      },
      "execution_count": null,
      "outputs": [
        {
          "output_type": "stream",
          "name": "stdout",
          "text": [
            "SPICE kernel file 'de421.bsp' has 15 segments\n",
            "  JD 2414864.50 - JD 2471184.50  (1899-07-28 through 2053-10-08)\n",
            "      0 -> 1    SOLAR SYSTEM BARYCENTER -> MERCURY BARYCENTER\n",
            "      0 -> 2    SOLAR SYSTEM BARYCENTER -> VENUS BARYCENTER\n",
            "      0 -> 3    SOLAR SYSTEM BARYCENTER -> EARTH BARYCENTER\n",
            "      0 -> 4    SOLAR SYSTEM BARYCENTER -> MARS BARYCENTER\n",
            "      0 -> 5    SOLAR SYSTEM BARYCENTER -> JUPITER BARYCENTER\n",
            "      0 -> 6    SOLAR SYSTEM BARYCENTER -> SATURN BARYCENTER\n",
            "      0 -> 7    SOLAR SYSTEM BARYCENTER -> URANUS BARYCENTER\n",
            "      0 -> 8    SOLAR SYSTEM BARYCENTER -> NEPTUNE BARYCENTER\n",
            "      0 -> 9    SOLAR SYSTEM BARYCENTER -> PLUTO BARYCENTER\n",
            "      0 -> 10   SOLAR SYSTEM BARYCENTER -> SUN\n",
            "      3 -> 301  EARTH BARYCENTER -> MOON\n",
            "      3 -> 399  EARTH BARYCENTER -> EARTH\n",
            "      1 -> 199  MERCURY BARYCENTER -> MERCURY\n",
            "      2 -> 299  VENUS BARYCENTER -> VENUS\n",
            "      4 -> 499  MARS BARYCENTER -> MARS\n"
          ]
        }
      ]
    },
    {
      "cell_type": "code",
      "source": [
        "earth = planets['earth']\n",
        "#Which planet are you plotting? Add an idenitifier here so we can call that data in a bit."
      ],
      "metadata": {
        "id": "8a652BKBspQO"
      },
      "execution_count": null,
      "outputs": []
    },
    {
      "cell_type": "markdown",
      "source": [
        "Let's set our viewpoint as Council Grove."
      ],
      "metadata": {
        "id": "2DGIhfR0zzW8"
      }
    },
    {
      "cell_type": "code",
      "source": [
        "from skyfield.api import N, W, wgs84\n",
        "\n",
        "CG = wgs84.latlon(add latitude, add longitude)"
      ],
      "metadata": {
        "colab": {
          "base_uri": "https://localhost:8080/",
          "height": 130
        },
        "id": "GcmLWgVAw9hq",
        "outputId": "d96a5c24-03f6-4ac9-d9f8-2843bf1a996e"
      },
      "execution_count": null,
      "outputs": [
        {
          "output_type": "error",
          "ename": "SyntaxError",
          "evalue": "ignored",
          "traceback": [
            "\u001b[0;36m  File \u001b[0;32m\"<ipython-input-7-5d18ddef9f46>\"\u001b[0;36m, line \u001b[0;32m3\u001b[0m\n\u001b[0;31m    CG = wgs84.latlon(add latitude, add longitude)\u001b[0m\n\u001b[0m                                 ^\u001b[0m\n\u001b[0;31mSyntaxError\u001b[0m\u001b[0;31m:\u001b[0m invalid syntax\n"
          ]
        }
      ]
    },
    {
      "cell_type": "markdown",
      "source": [
        "We want to plot the right ascension and declination of our planet in the night sky over the course of 2021. The biggest problem we will run into is that we don't know what time to use as the plot since the sunrise and sunset are at different times throughout the year. \n",
        "\n",
        "The first thing we need to do is to pull in the times of sunrise and sunset for our location."
      ],
      "metadata": {
        "id": "b8miDxOcec1Q"
      }
    },
    {
      "cell_type": "markdown",
      "source": [
        "Start by defining the time period we want to plot. \n",
        "The timescale() object manages this conversion for us. \n",
        "Then we can set it to look at every day of the year 2021. "
      ],
      "metadata": {
        "id": "EvGIT0xugrmh"
      }
    },
    {
      "cell_type": "code",
      "source": [
        "ts = load.timescale()\n",
        "start, end = ts.utc(year, month, day), ts.utc(year, month, day) "
      ],
      "metadata": {
        "id": "52WjlEvGgpv3"
      },
      "execution_count": null,
      "outputs": []
    },
    {
      "cell_type": "markdown",
      "source": [
        "For each day of the year, there is a sunrise and a sunset. We can use the almanac to pull each time that this occurs. This is dependent on the latitude we are observing from since the times will change throughout the year at different locations. \n",
        "\n",
        "We are going to do this in two steps.\n",
        "\n",
        "The f identifier is going to search for the location of the planets as observed from Council Grove at the time of sunset and sunrise.\n",
        "\n",
        "That information will then be narrowed down to the time period that we defined above, in this case, each sunrise and sunset for the year 2021."
      ],
      "metadata": {
        "id": "1hfiQffErsrw"
      }
    },
    {
      "cell_type": "code",
      "source": [
        "f = almanac.sunrise_sunset(planets, CG)\n",
        "t, y = almanac.find_discrete(start, end, f)"
      ],
      "metadata": {
        "id": "OLuV16rVjFuJ"
      },
      "execution_count": null,
      "outputs": []
    },
    {
      "cell_type": "markdown",
      "source": [
        "The search result that defined t in the previous box will produce an array of times. Each data point (y) is assigned a value of 1 if the sun rises at the corresponding time and 0 if it sets. \n",
        "\n",
        "If you would like to simplify your data, you can uncomment the next two lines to only include the data for sunsets. Try both and see what patterns you notice. "
      ],
      "metadata": {
        "id": "QAod-dPbX2cD"
      }
    },
    {
      "cell_type": "code",
      "source": [
        "#sunsets = (y == 0)\n",
        "#t = t[sunsets]"
      ],
      "metadata": {
        "id": "jJ9F4NPHX6i1"
      },
      "execution_count": null,
      "outputs": []
    },
    {
      "cell_type": "markdown",
      "source": [
        "For each moment of sunset, ask Skyfield for the month number, the day number, and for the planet's altitude and azimuth.\n",
        "\n",
        "apparent refers to the planet's apparent position in the sky. So earth, specifically at Council Grove, at time (t), we want to observe the planet's apparent postion. "
      ],
      "metadata": {
        "id": "xCBqzBvvlGDe"
      }
    },
    {
      "cell_type": "code",
      "source": [
        "apparent = (earth + CG).at(t).observe(whichplanet?).apparent()\n",
        "ra, dec, distance = apparent.radec()"
      ],
      "metadata": {
        "id": "E_msL0JFlOR9"
      },
      "execution_count": null,
      "outputs": []
    },
    {
      "cell_type": "markdown",
      "source": [
        "Now, we plot.\n",
        "\n",
        "We want right ascension (ra.hours) plotted on the x axis and declination (dec.degees) on the y axis. "
      ],
      "metadata": {
        "id": "ptolQmc4Z2sn"
      }
    },
    {
      "cell_type": "code",
      "source": [
        "fig = plt.figure(figsize=(15, 10))\n",
        "plt.scatter(x,y)\n",
        "\n",
        "plt.title(\"title?\")\n",
        "plt.xlabel(\"Label me!\")\n",
        "plt.ylabel(\"Me, too!\");"
      ],
      "metadata": {
        "id": "yQg8RqI8lyiB"
      },
      "execution_count": null,
      "outputs": []
    },
    {
      "cell_type": "markdown",
      "source": [
        "#Challenge\n",
        "You have plotted the planets position using right ascension and declination. These plots will be the same for any location on Earth. (If you doubt that statement, go back to where we added Council Grove into our code. Change the location and replot.)\n",
        "\n",
        "To see what the planet path would look like as viewed from Council Grove, change the graph to plot altitude and azimuth."
      ],
      "metadata": {
        "id": "EI1swN37r9RZ"
      }
    },
    {
      "cell_type": "markdown",
      "source": [
        "#Credits\n",
        "\n",
        "This notebook was adapted from Skyfield's [Charting an Apparition of Venus](https://rhodesmill.org/skyfield/example-plots.html) example plot by Tracie Schroeder."
      ],
      "metadata": {
        "id": "pjpHyBuQdS0p"
      }
    }
  ]
}